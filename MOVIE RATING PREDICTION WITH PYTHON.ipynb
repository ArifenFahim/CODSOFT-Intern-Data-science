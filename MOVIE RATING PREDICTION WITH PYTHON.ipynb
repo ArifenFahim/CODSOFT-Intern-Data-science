{
 "cells": [
  {
   "cell_type": "code",
   "execution_count": null,
   "metadata": {},
   "outputs": [],
   "source": [
    "import pandas as pd\n",
    "import matplotlib.pyplot as plt\n",
    "import seaborn as sns\n",
    "\n",
    "df = pd.read_csv('IMDb Movies India.csv', encoding='ISO-8859-1')\n",
    "\n",
    "df = pd.read_csv('IMDb Movies India.csv', encoding='latin1')\n",
    "\n",
    "# Load the dataset\n",
    "\n",
    "print(df.head())\n",
    "\n",
    "# Display summary statistics\n",
    "print(df.describe())\n",
    "\n",
    "# Check for missing values\n",
    "print(df.isnull().sum())\n",
    "\n",
    "# Visualize the distribution of ratings\n",
    "sns.histplot(df['Rating'], bins=20, kde=True)\n",
    "plt.title('Movie Ratings Distribution')\n",
    "plt.show()\n",
    "\n",
    "\n",
    "# Remove \"min\" from the 'Duration' and convert to numeric\n",
    "df['Duration'] = df['Duration'].str.replace(' min', '', regex=False)\n",
    "df['Duration'] = pd.to_numeric(df['Duration'], errors='coerce')  # Convert to numeric\n",
    "sns.pairplot(df[['Rating', 'Duration']])\n",
    "plt.show()\n",
    "\n"
   ]
  },
  {
   "cell_type": "code",
   "execution_count": 100,
   "metadata": {},
   "outputs": [],
   "source": [
    "# Convert 'Votes' to numeric, coercing invalid values to NaN\n",
    "df['Votes'] = pd.to_numeric(df['Votes'], errors='coerce')\n",
    "\n",
    "# Fill missing values in 'Votes' with the median of valid numeric entries\n",
    "df['Votes'] = df['Votes'].fillna(df['Votes'].median())\n",
    "\n",
    "# Convert 'Duration' to string to ensure we can use .str accessor\n",
    "df['Duration'] = df['Duration'].astype(str)\n",
    "\n",
    "# Cleaning 'Duration' by removing ' min' and converting it to numeric\n",
    "df['Duration'] = df['Duration'].str.replace(' min', '').astype(float)\n",
    "\n",
    "# Fill missing values in 'Duration' with the median of valid numeric entries\n",
    "df['Duration'] = df['Duration'].fillna(df['Duration'].median())\n",
    "\n",
    "\n"
   ]
  },
  {
   "cell_type": "code",
   "execution_count": 101,
   "metadata": {},
   "outputs": [],
   "source": [
    "# Convert 'Votes' to numeric, handling any errors by coercing invalid data to NaN\n",
    "df['Votes'] = pd.to_numeric(df['Votes'], errors='coerce')\n",
    "\n",
    "# Extract and convert 'Year' from the string (assuming it contains years)\n",
    "df['Year'] = df['Year'].str.extract(r'(\\d{4})').astype(float)\n"
   ]
  },
  {
   "cell_type": "code",
   "execution_count": null,
   "metadata": {},
   "outputs": [],
   "source": [
    "import matplotlib.pyplot as plt\n",
    "import seaborn as sns\n",
    "\n",
    "# Plotting the distribution of ratings\n",
    "sns.histplot(df['Rating'], bins=20, kde=True)\n",
    "plt.title('Distribution of Movie Ratings')\n",
    "plt.xlabel('Rating')\n",
    "plt.ylabel('Frequency')\n",
    "plt.show()\n"
   ]
  },
  {
   "cell_type": "code",
   "execution_count": null,
   "metadata": {},
   "outputs": [],
   "source": [
    "# Scatter plot to see the relationship between movie 'Duration' and 'Rating'\n",
    "sns.scatterplot(data=df, x='Duration', y='Rating')\n",
    "plt.title('Rating vs Duration')\n",
    "plt.xlabel('Duration (minutes)')\n",
    "plt.ylabel('Rating')\n",
    "plt.show()\n"
   ]
  },
  {
   "cell_type": "code",
   "execution_count": 104,
   "metadata": {},
   "outputs": [],
   "source": [
    "# Apply one-hot encoding to the 'Genre' column\n",
    "df = pd.get_dummies(df, columns=['Genre'], drop_first=True)\n"
   ]
  },
  {
   "cell_type": "code",
   "execution_count": null,
   "metadata": {},
   "outputs": [],
   "source": [
    "import pandas as pd\n",
    "import matplotlib.pyplot as plt\n",
    "import seaborn as sns\n",
    "\n",
    "# Load the dataset\n",
    "df = pd.read_csv('IMDb Movies India.csv', encoding='latin1')\n",
    "\n",
    "# Check for non-numeric columns\n",
    "print(\"Data types before conversion:\")\n",
    "print(df.dtypes)\n",
    "\n",
    "# Attempt to convert relevant columns to numeric (this includes 'Duration', 'Votes', 'Rating', 'Year', 'Movie_Age')\n",
    "cols_to_convert = ['Duration', 'Votes', 'Rating', 'Year']  # Add any other relevant columns here\n",
    "\n",
    "for col in cols_to_convert:\n",
    "    df[col] = pd.to_numeric(df[col], errors='coerce')\n",
    "\n",
    "# Check for any remaining non-numeric values (should be NaN now)\n",
    "print(\"Data types after conversion:\")\n",
    "print(df.dtypes)\n",
    "\n",
    "# Drop rows with NaN values in numeric columns if necessary\n",
    "df.dropna(subset=cols_to_convert, inplace=True)\n",
    "\n",
    "# Calculate and plot the correlation matrix\n",
    "correlation_matrix = df.corr()\n",
    "plt.figure(figsize=(12, 8))\n",
    "sns.heatmap(correlation_matrix, annot=True, fmt=\".2f\", cmap='coolwarm', square=True)\n",
    "plt.title('Correlation Matrix')\n",
    "plt.show()\n"
   ]
  },
  {
   "cell_type": "code",
   "execution_count": null,
   "metadata": {},
   "outputs": [],
   "source": [
    "sns.histplot(df['Votes'], bins=20, kde=True)\n",
    "plt.title('Distribution of Votes')\n",
    "plt.xlabel('Votes')\n",
    "plt.ylabel('Frequency')\n",
    "plt.show()\n",
    "\n",
    "sns.countplot(x='Year', data=df)\n",
    "plt.title('Number of Movies Released by Year')\n",
    "plt.xticks(rotation=45)\n",
    "plt.show()\n"
   ]
  },
  {
   "cell_type": "code",
   "execution_count": 107,
   "metadata": {},
   "outputs": [],
   "source": [
    "# Create a new feature for the age of the movie\n",
    "current_year = 2024  # or use datetime.now().year\n",
    "df['Movie_Age'] = current_year - df['Year']\n"
   ]
  },
  {
   "cell_type": "code",
   "execution_count": null,
   "metadata": {},
   "outputs": [],
   "source": [
    "# Scatter plot of Movie Age vs Rating\n",
    "sns.scatterplot(data=df, x='Movie_Age', y='Rating')\n",
    "plt.title('Movie Age vs Rating')\n",
    "plt.xlabel('Movie Age (Years)')\n",
    "plt.ylabel('Rating')\n",
    "plt.show()\n"
   ]
  },
  {
   "cell_type": "code",
   "execution_count": null,
   "metadata": {},
   "outputs": [],
   "source": [
    "# Calculate and plot the correlation matrix\n",
    "correlation_matrix = df.corr()\n",
    "plt.figure(figsize=(12, 8))\n",
    "sns.heatmap(correlation_matrix, annot=True, fmt=\".2f\", cmap='coolwarm', square=True)\n",
    "plt.title('Correlation Matrix')\n",
    "plt.show()\n"
   ]
  },
  {
   "cell_type": "code",
   "execution_count": null,
   "metadata": {},
   "outputs": [],
   "source": [
    "# Descriptive statistics for Movie Age\n",
    "print(df['Movie_Age'].describe())\n"
   ]
  },
  {
   "cell_type": "code",
   "execution_count": null,
   "metadata": {},
   "outputs": [],
   "source": [
    "# Calculate average rating by year\n",
    "avg_rating_by_year = df.groupby('Year')['Rating'].mean().reset_index()\n",
    "\n",
    "# Plot average rating over the years\n",
    "plt.figure(figsize=(12, 6))\n",
    "sns.lineplot(data=avg_rating_by_year, x='Year', y='Rating')\n",
    "plt.title('Average Movie Rating Over the Years')\n",
    "plt.xlabel('Year')\n",
    "plt.ylabel('Average Rating')\n",
    "plt.xticks(rotation=45)\n",
    "plt.show()\n"
   ]
  },
  {
   "cell_type": "code",
   "execution_count": null,
   "metadata": {},
   "outputs": [],
   "source": [
    "# First, ensure that you have a 'Genre' column in a suitable format\n",
    "df_genres = df[['Genre', 'Rating']]\n",
    "df_genres['Present'] = 1  # Create a presence column for one-hot encoding\n",
    "\n",
    "# Split the genres into separate rows\n",
    "df_genres_melted = df_genres.explode('Genre')\n",
    "avg_rating_per_genre = df_genres_melted.groupby('Genre')['Rating'].mean().reset_index()\n",
    "\n",
    "# Plotting average rating by genre\n",
    "plt.figure(figsize=(12, 6))\n",
    "sns.barplot(data=avg_rating_per_genre, x='Rating', y='Genre')\n",
    "plt.title('Average Movie Rating by Genre')\n",
    "plt.xlabel('Average Rating')\n",
    "plt.ylabel('Genre')\n",
    "plt.show()\n"
   ]
  },
  {
   "cell_type": "code",
   "execution_count": null,
   "metadata": {},
   "outputs": [],
   "source": [
    "# Scatter plot to see the relationship between Votes and Ratings\n",
    "plt.figure(figsize=(12, 6))\n",
    "sns.scatterplot(data=df, x='Votes', y='Rating')\n",
    "plt.title('Votes vs. Rating')\n",
    "plt.xlabel('Votes')\n",
    "plt.ylabel('Rating')\n",
    "plt.xscale('log')  # Log scale for better visualization\n",
    "plt.show()\n"
   ]
  },
  {
   "cell_type": "code",
   "execution_count": null,
   "metadata": {},
   "outputs": [],
   "source": [
    "# Count the number of movies released each year\n",
    "movies_per_year = df['Year'].value_counts().sort_index()\n",
    "\n",
    "plt.figure(figsize=(12, 6))\n",
    "sns.lineplot(x=movies_per_year.index, y=movies_per_year.values)\n",
    "plt.title('Number of Movies Released Per Year')\n",
    "plt.xlabel('Year')\n",
    "plt.ylabel('Number of Movies')\n",
    "plt.xticks(rotation=45)\n",
    "plt.show()\n"
   ]
  },
  {
   "cell_type": "code",
   "execution_count": null,
   "metadata": {},
   "outputs": [],
   "source": [
    "# Average rating by director\n",
    "avg_rating_by_director = df.groupby('Director')['Rating'].mean().reset_index()\n",
    "avg_rating_by_director = avg_rating_by_director.sort_values(by='Rating', ascending=False).head(10)  # Top 10 directors\n",
    "\n",
    "plt.figure(figsize=(12, 6))\n",
    "sns.barplot(data=avg_rating_by_director, x='Rating', y='Director')\n",
    "plt.title('Top 10 Directors by Average Rating')\n",
    "plt.xlabel('Average Rating')\n",
    "plt.ylabel('Director')\n",
    "plt.show()\n"
   ]
  },
  {
   "cell_type": "code",
   "execution_count": null,
   "metadata": {},
   "outputs": [],
   "source": [
    "# Calculate and plot the correlation matrix\n",
    "correlation_matrix = df.corr()\n",
    "plt.figure(figsize=(12, 8))\n",
    "sns.heatmap(correlation_matrix, annot=True, fmt=\".2f\", cmap='coolwarm', square=True)\n",
    "plt.title('Correlation Matrix')\n",
    "plt.show()\n"
   ]
  }
 ],
 "metadata": {
  "kernelspec": {
   "display_name": "base",
   "language": "python",
   "name": "python3"
  },
  "language_info": {
   "codemirror_mode": {
    "name": "ipython",
    "version": 3
   },
   "file_extension": ".py",
   "mimetype": "text/x-python",
   "name": "python",
   "nbconvert_exporter": "python",
   "pygments_lexer": "ipython3",
   "version": "3.12.7"
  }
 },
 "nbformat": 4,
 "nbformat_minor": 2
}
